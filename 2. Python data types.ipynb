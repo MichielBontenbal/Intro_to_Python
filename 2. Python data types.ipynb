{
 "cells": [
  {
   "cell_type": "markdown",
   "metadata": {},
   "source": [
    "# Python data types\n",
    "\n",
    "\n",
    "### Contents:\n",
    "1. Lists\n",
    "2. Sets\n",
    "3. Tuples\n",
    "4. Dictionaries\n",
    "\n"
   ]
  },
  {
   "cell_type": "markdown",
   "metadata": {},
   "source": [
    "# Python collection data types\n",
    "\n",
    "There are four collection data types in the Python programming language:\n",
    "\n",
    "1. a <b>List</b> is a collection which is ordered and indexed. Allows duplicate members. \n",
    "2. a <b>Set</b> is a collection which is unordered and unindexed. No duplicate members. \n",
    "3. a <b>Tuple</b> is a collection which is ordered and unchangeable. Allows duplicate members. \n",
    "4. a <b>Dictionary</b> is a collection which is unordered, changeable and indexed. No duplicate members.\n",
    "\n",
    "N.B. another data structure is an array. Arrays are not built-in data structures in python and therefore they are discussed seperately (see 3.x numpy). Arrays can have multiple dimensions. One could say that a python list is a 1D-array."
   ]
  },
  {
   "cell_type": "markdown",
   "metadata": {},
   "source": [
    "| Data type | Ordered| Indexed | Changeble | Duplicates? | indicated by\n",
    "| --- | --- | --- | --- | --- | ---|\n",
    "| List | yes| yes | yes | yes | [ ] |\n",
    "| Set | no | no | no | no | (  )|\n",
    "| Tuple | yes | yes | no | yes | (  )|\n",
    "| Dictionary | no | yes | yes | no | {  }|"
   ]
  },
  {
   "cell_type": "markdown",
   "metadata": {},
   "source": [
    "### When to use a python data type?\n",
    "\n",
    "Use a list if:\n",
    "- The data has a natural order\n",
    "- There is a need to update or change the data during the program\n",
    "- The primary purpose of the data structure is iteration\n",
    "\n",
    "Use a tuple if:\n",
    "- The data has a natural order\n",
    "- No need to update the data\n",
    "- Primary purpose is iteration\n",
    "\n",
    "Use a dictionary if:\n",
    "- The data is unordered or the order doesn't mattter\n",
    "- Update the data\n",
    "- Primary purpose is looking up values\n",
    "\n",
    "Use a set if:\n",
    "- in all other cases"
   ]
  },
  {
   "cell_type": "markdown",
   "metadata": {},
   "source": [
    "## 1. Lists\n",
    "\n",
    "A <b>List</b> is a collection which is ordered and indexed. Allows duplicate members. \n",
    "\n",
    "source: https://www.w3schools.com/python/python_lists.asp"
   ]
  },
  {
   "cell_type": "code",
   "execution_count": 1,
   "metadata": {},
   "outputs": [
    {
     "name": "stdout",
     "output_type": "stream",
     "text": [
      "[1, 2, 3]\n"
     ]
    }
   ],
   "source": [
    "#create a variable 'my_list' and assign the values 1,2,3 to it\n",
    "my_first_list = [1,2,3]\n",
    "print(my_first_list)"
   ]
  },
  {
   "cell_type": "code",
   "execution_count": 4,
   "metadata": {},
   "outputs": [
    {
     "name": "stdout",
     "output_type": "stream",
     "text": [
      "[1, 2, 3] 3\n",
      "3\n",
      "[1, 2, 'foo']\n",
      "[1, 2, 'foo', 'bar']\n",
      "bar [1, 2, 'foo']\n"
     ]
    }
   ],
   "source": [
    "#list operations\n",
    "my_list = [1, 2, 3]    # Create a list\n",
    "print(my_list, my_list[2])  # Prints \"[3, 1, 2] 2\"\n",
    "print(my_list[-1])     # Negative indices count from the end of the list; prints \"2\"\n",
    "\n",
    "my_list[2] = 'foo'     # Change the value of the item 2\n",
    "print(my_list)         # Prints \"[3, 1, 'foo']\"\n",
    "\n",
    "my_list.append('bar')  # Add a new element to the end of the list\n",
    "print(my_list)         # Prints \"[3, 1, 'foo', 'bar']\"\n",
    "\n",
    "x = my_list.pop()      # Remove and return the last element of the list\n",
    "print(x, my_list)      # Prints \"bar [3, 1, 'foo']\""
   ]
  },
  {
   "cell_type": "code",
   "execution_count": 5,
   "metadata": {},
   "outputs": [
    {
     "name": "stdout",
     "output_type": "stream",
     "text": [
      "['__add__', '__class__', '__class_getitem__', '__contains__', '__delattr__', '__delitem__', '__dir__', '__doc__', '__eq__', '__format__', '__ge__', '__getattribute__', '__getitem__', '__gt__', '__hash__', '__iadd__', '__imul__', '__init__', '__init_subclass__', '__iter__', '__le__', '__len__', '__lt__', '__mul__', '__ne__', '__new__', '__reduce__', '__reduce_ex__', '__repr__', '__reversed__', '__rmul__', '__setattr__', '__setitem__', '__sizeof__', '__str__', '__subclasshook__', 'append', 'clear', 'copy', 'count', 'extend', 'index', 'insert', 'pop', 'remove', 'reverse', 'sort']\n"
     ]
    }
   ],
   "source": [
    "#with dir you can lookup all in-built methods\n",
    "print(dir(my_list))"
   ]
  },
  {
   "cell_type": "code",
   "execution_count": 6,
   "metadata": {},
   "outputs": [
    {
     "name": "stdout",
     "output_type": "stream",
     "text": [
      "['p', 'y', 't', 'h', 'o', 'n']\n"
     ]
    }
   ],
   "source": [
    "#create an empty list and assign the letters p y t h o n to it\n",
    "letters = []\n",
    "letters += 'python'\n",
    "print(letters)"
   ]
  },
  {
   "cell_type": "code",
   "execution_count": null,
   "metadata": {},
   "outputs": [],
   "source": [
    "# Prints \"cat\", \"dog\", \"monkey\", each on its own line.\n",
    "animals = ['cat', 'dog', 'monkey']\n",
    "print(animals[0]) # prints first item in the list. remember: lists start with 0\n",
    "print(animals[-1]) #prints last item"
   ]
  },
  {
   "cell_type": "code",
   "execution_count": 6,
   "metadata": {},
   "outputs": [
    {
     "name": "stdout",
     "output_type": "stream",
     "text": [
      "['cat', 'horse', 'monkey']\n"
     ]
    }
   ],
   "source": [
    "# replace an item with a new value\n",
    "animals[1] = \"horse\"\n",
    "print(animals)"
   ]
  },
  {
   "cell_type": "code",
   "execution_count": 23,
   "metadata": {},
   "outputs": [
    {
     "data": {
      "text/plain": [
       "[0, 1, 2, 3, 4]"
      ]
     },
     "execution_count": 23,
     "metadata": {},
     "output_type": "execute_result"
    }
   ],
   "source": [
    "#use list and range to create a list\n",
    "list(range(5))"
   ]
  },
  {
   "cell_type": "code",
   "execution_count": 7,
   "metadata": {},
   "outputs": [
    {
     "name": "stdout",
     "output_type": "stream",
     "text": [
      "['apple', 'banana', 'cherry']\n"
     ]
    }
   ],
   "source": [
    "#use the list constructor to convert a set\n",
    "this_list = list((\"apple\", \"banana\", \"cherry\")) # note the double round-brackets\n",
    "print(this_list)"
   ]
  },
  {
   "cell_type": "code",
   "execution_count": 10,
   "metadata": {},
   "outputs": [
    {
     "name": "stdout",
     "output_type": "stream",
     "text": [
      "average= 7.25\n"
     ]
    }
   ],
   "source": [
    "#use the build-in min, max, len and sum functions\n",
    "my_list = [5,9,3,12]\n",
    "min(my_list), max(my_list), len(my_list), sum(my_list)\n",
    "\n",
    "avg=sum(my_list)/len(my_list)\n",
    "print(\"average=\",avg)"
   ]
  },
  {
   "cell_type": "code",
   "execution_count": 13,
   "metadata": {},
   "outputs": [
    {
     "name": "stdout",
     "output_type": "stream",
     "text": [
      "Updated list :  [123, 'xyz', 'zara', 'abc', 2021]\n"
     ]
    }
   ],
   "source": [
    "##Use the append-function to add an item to a list. More on list comprehension in the Intermediate Notebook\n",
    "a_list = [123, 'xyz', 'zara', 'abc']\n",
    "a_list.append(2021)\n",
    "print (\"Updated list : \", a_list)"
   ]
  },
  {
   "cell_type": "code",
   "execution_count": 1,
   "metadata": {},
   "outputs": [
    {
     "data": {
      "text/plain": [
       "1"
      ]
     },
     "execution_count": 1,
     "metadata": {},
     "output_type": "execute_result"
    }
   ],
   "source": [
    "#list have a method called 'called' that can be used to count the number of occurences of a given parameter\n",
    "list1 = [2,3,4,3,10,3,5,6,3]\n",
    "my_count = list1.count(6) #enter the value you want to be counted. How often is 6 in this list?\n",
    "my_count"
   ]
  },
  {
   "cell_type": "code",
   "execution_count": 2,
   "metadata": {},
   "outputs": [
    {
     "data": {
      "text/plain": [
       "[0, 1, 2, 3, 4, 5]"
      ]
     },
     "execution_count": 2,
     "metadata": {},
     "output_type": "execute_result"
    }
   ],
   "source": [
    "#combining two lists\n",
    "list1= [0,1,2]\n",
    "list2 = [3,4,5]\n",
    "list1+list2"
   ]
  },
  {
   "cell_type": "code",
   "execution_count": 18,
   "metadata": {},
   "outputs": [
    {
     "name": "stdout",
     "output_type": "stream",
     "text": [
      "['Hi', 'hello', 'at', 'this', 'there', 'from']\n",
      "Give a word to check if it's in the list: hello\n",
      "Yes, hello is found in list : ['Hi', 'hello', 'at', 'this', 'there', 'from']\n"
     ]
    }
   ],
   "source": [
    "#check if a word is in a list of strings\n",
    "list_of_strings = ['Hi' , 'hello', 'at', 'this', 'there', 'from']\n",
    "print(list_of_strings)\n",
    "my_word = input(\"Give a word to check if it's in the list: \")\n",
    "if my_word in listOfStrings :\n",
    "    print(f\"Yes, {my_word} is found in list : {listOfStrings}\")\n",
    "else:\n",
    "    print(\"No, not found in list\")"
   ]
  },
  {
   "cell_type": "code",
   "execution_count": 7,
   "metadata": {},
   "outputs": [
    {
     "name": "stdout",
     "output_type": "stream",
     "text": [
      "Does string contain 'Game of Thrones' list element: True\n"
     ]
    }
   ],
   "source": [
    "# using 'ANY' to select list items that \n",
    "# source: https://appdividend.com/2020/01/21/python-list-contains-how-to-check-if-item-exists-in-list/#:~:text=To%20check%20if%20the%20item,syntax%20of%20Python%20in%20operator.\n",
    "data_string = \"The last season of Game of Thrones was not good\"\n",
    "\n",
    "listA = ['Stranger Things', 'S Education', 'Game of Thrones']\n",
    "\n",
    "#print(\"The original string : \" + data_string)\n",
    "\n",
    "#print(\"The original list : \" + str(listA))\n",
    "\n",
    "res = any(item in data_string for item in listA)\n",
    "\n",
    "print(\"Does string contain 'Game of Thrones' list element: \" + str(res))"
   ]
  },
  {
   "cell_type": "code",
   "execution_count": 11,
   "metadata": {},
   "outputs": [
    {
     "name": "stdout",
     "output_type": "stream",
     "text": [
      "Does string contain 'Game of Thrones' list element: True\n"
     ]
    }
   ],
   "source": [
    "data_list = ['T', 'h', 'e', 'Game of Thrones']\n",
    "\n",
    "listA = ['Stranger Things', 'S Education', 'Game of Thrones']\n",
    "\n",
    "#print(\"The original string : \" + data_string)\n",
    "\n",
    "#print(\"The original list : \" + str(listA))\n",
    "\n",
    "res = any(item in data_list for item in listA)\n",
    "\n",
    "print(\"Does string contain 'Game of Thrones' list element: \" + str(res))"
   ]
  },
  {
   "cell_type": "markdown",
   "metadata": {},
   "source": [
    "## 2. Tuples\n",
    "A tuple is an (immutable) ordered list of values. A tuple is in many ways similar to a list here are the differences:\n",
    "\n",
    "* Tuples use () while lists use [] \n",
    "* Tuples use less memory than lists => tuples can be made more quickly\n",
    "* Tuples are immutable (cannot be changed) while lists are mutable (add, remove, change data)\n",
    "* Tuples can be used as keys in dictionaries and as elements of sets, while lists cannot.\n",
    "* Tuple need at least two elements otherwise python thinks it is a string (a) vs (a,)\n",
    "\n",
    "Here is a trivial example:\n",
    "source = https://www.youtube.com/watch?v=NI26dqhs2Rk"
   ]
  },
  {
   "cell_type": "code",
   "execution_count": 5,
   "metadata": {
    "scrolled": true
   },
   "outputs": [
    {
     "name": "stdout",
     "output_type": "stream",
     "text": [
      "<class 'tuple'>\n",
      "(5, 6)\n"
     ]
    }
   ],
   "source": [
    "#a basic tuple example\n",
    "t = (5, 6)        # Create a tuple\n",
    "print(type(t))    # Prints \"<class 'tuple'>\"\n",
    "print(t)"
   ]
  },
  {
   "cell_type": "code",
   "execution_count": 7,
   "metadata": {},
   "outputs": [
    {
     "data": {
      "text/plain": [
       "4"
      ]
     },
     "execution_count": 7,
     "metadata": {},
     "output_type": "execute_result"
    }
   ],
   "source": [
    "# Length of a tuple\n",
    "my_tuple = ((0,0),(0,2),(2,0),(2,2))\n",
    "len(my_tuple)"
   ]
  },
  {
   "cell_type": "code",
   "execution_count": 10,
   "metadata": {},
   "outputs": [
    {
     "name": "stdout",
     "output_type": "stream",
     "text": [
      "(0, 0)\n"
     ]
    }
   ],
   "source": [
    "#tuples are indexed. \n",
    "print(my_tuple[0])"
   ]
  },
  {
   "cell_type": "code",
   "execution_count": null,
   "metadata": {},
   "outputs": [],
   "source": [
    "# loop trough a tuple\n",
    "thistuple = (\"apple\", \"banana\", \"cherry\")\n",
    "for x in thistuple:\n",
    "  print(x)"
   ]
  },
  {
   "cell_type": "markdown",
   "metadata": {},
   "source": [
    "## 3. Sets\n",
    "\n",
    "Use 'set()' to create a set. \n",
    "Sets are not ordered.\n",
    "\n",
    "You can combine sets by using 'union' and by using 'intersection' you can identy records that are in both sets.\n",
    "\n",
    "source: https://www.youtube.com/watch?v=sBvaPopWOmQ&list=PLi01XoE8jYohWFPpC17Z-wWhPOSuh8Er-&index=13"
   ]
  },
  {
   "cell_type": "code",
   "execution_count": 8,
   "metadata": {},
   "outputs": [
    {
     "name": "stdout",
     "output_type": "stream",
     "text": [
      "3\n",
      "{False, 3.1459, 'Thorium'}\n"
     ]
    }
   ],
   "source": [
    "example = set()\n",
    "example.add(42)\n",
    "example.add(False)\n",
    "example.add(3.14159)\n",
    "example.add(3.14159) # Sets have only unique elements! So adding another value doesn't make any sense\n",
    "example.add('Thorium')\n",
    "example.remove(42) # example.discard(42) is another option\n",
    "print(len(example)) # print the list and see that the above set has only \n",
    "print(example)"
   ]
  },
  {
   "cell_type": "code",
   "execution_count": 11,
   "metadata": {},
   "outputs": [
    {
     "name": "stdout",
     "output_type": "stream",
     "text": [
      "['__and__', '__class__', '__class_getitem__', '__contains__', '__delattr__', '__dir__', '__doc__', '__eq__', '__format__', '__ge__', '__getattribute__', '__gt__', '__hash__', '__iand__', '__init__', '__init_subclass__', '__ior__', '__isub__', '__iter__', '__ixor__', '__le__', '__len__', '__lt__', '__ne__', '__new__', '__or__', '__rand__', '__reduce__', '__reduce_ex__', '__repr__', '__ror__', '__rsub__', '__rxor__', '__setattr__', '__sizeof__', '__str__', '__sub__', '__subclasshook__', '__xor__', 'add', 'clear', 'copy', 'difference', 'difference_update', 'discard', 'intersection', 'intersection_update', 'isdisjoint', 'issubset', 'issuperset', 'pop', 'remove', 'symmetric_difference', 'symmetric_difference_update', 'union', 'update']\n"
     ]
    }
   ],
   "source": [
    "#print the built-in methods of a set\n",
    "print(dir(example))"
   ]
  },
  {
   "cell_type": "code",
   "execution_count": 8,
   "metadata": {},
   "outputs": [
    {
     "ename": "TypeError",
     "evalue": "'set' object is not subscriptable",
     "output_type": "error",
     "traceback": [
      "\u001b[0;31m---------------------------------------------------------------------------\u001b[0m",
      "\u001b[0;31mTypeError\u001b[0m                                 Traceback (most recent call last)",
      "Input \u001b[0;32mIn [8]\u001b[0m, in \u001b[0;36m<cell line: 2>\u001b[0;34m()\u001b[0m\n\u001b[1;32m      1\u001b[0m \u001b[38;5;66;03m#Sets are NOT indexed, so the following will return a TypeError\u001b[39;00m\n\u001b[0;32m----> 2\u001b[0m \u001b[38;5;28mprint\u001b[39m(\u001b[43modds\u001b[49m\u001b[43m[\u001b[49m\u001b[38;5;241;43m0\u001b[39;49m\u001b[43m]\u001b[49m)\n",
      "\u001b[0;31mTypeError\u001b[0m: 'set' object is not subscriptable"
     ]
    }
   ],
   "source": [
    "#Sets are NOT indexed, so the following will return a TypeError\n",
    "print(odds[0])"
   ]
  },
  {
   "cell_type": "code",
   "execution_count": 22,
   "metadata": {},
   "outputs": [
    {
     "name": "stdout",
     "output_type": "stream",
     "text": [
      "{1, 2, 3, 5, 7, 9}\n",
      "{3, 5, 7}\n",
      "{2}\n"
     ]
    },
    {
     "data": {
      "text/plain": [
       "True"
      ]
     },
     "execution_count": 22,
     "metadata": {},
     "output_type": "execute_result"
    }
   ],
   "source": [
    "# You can combine sets usint the 'union' function and intersect (doorsnijden) sets using 'intersection'\n",
    "\n",
    "odds = set([1,3,5,7,9])\n",
    "evens = set([2,4,6,8,10])\n",
    "primes = set([2,3,5,7])\n",
    "composites = set ([4,6,8,9,10])\n",
    "\n",
    "print(odds.union(primes)) # print those that are in union\n",
    "\n",
    "print(odds.intersection(primes)) # intersection != in collection\n",
    "print(evens.intersection(primes))\n",
    "\n",
    "#check is this is true:\n",
    "6 in evens"
   ]
  },
  {
   "cell_type": "markdown",
   "metadata": {},
   "source": [
    "## 4. Dictionaries\n",
    "\n",
    "Dictonary (dict) associates keys with values. Each key maps to a specific value. \n",
    "Quite often in Computer Science this is called a 'map', but Python calls this a dictionary. \n",
    "Is used to store data. A python dictonary uses the {}-symbol. Dictionaries are Not ordered data.\n",
    "\n",
    "A dictionary key must be <i>immutable</i> and must be <i>unique</i>.\n",
    "\n",
    "The most important methods are:\n",
    "- .keys = shows the keys\n",
    "- .values = shows the values\n",
    "- .items = shows both keys and values\n",
    "- .pop .popitem .clear = to remove an item or the whole list\n",
    "\n",
    "source: https://www.youtube.com/watch?v=XCcpzWs-CI4"
   ]
  },
  {
   "cell_type": "code",
   "execution_count": 2,
   "metadata": {},
   "outputs": [
    {
     "name": "stdout",
     "output_type": "stream",
     "text": [
      "user_id = 209\n",
      "message = D5 E5 C5\n",
      "language = English\n",
      "location = (44.590533, -104.715556)\n"
     ]
    }
   ],
   "source": [
    "#Create a dictionary with user data\n",
    "# dictionary = {\"key\": value} value here is an integer/float, for string use '''. This is the constructor.\n",
    "post = {\"user_id\": 209, \"message\": \"D5 E5 C5\", \"language\": \"English\", \n",
    "        \"location\": (44.590533, -104.715556)}# first one is key, second value.\n",
    "type(post)\n",
    "\n",
    "#print a list of keys and values\n",
    "for key in post.keys(): #use a for loop to print the dictionary\n",
    "    value = post[key]\n",
    "    print(key, \"=\", value)"
   ]
  },
  {
   "cell_type": "code",
   "execution_count": 3,
   "metadata": {},
   "outputs": [
    {
     "data": {
      "text/plain": [
       "209"
      ]
     },
     "execution_count": 3,
     "metadata": {},
     "output_type": "execute_result"
    }
   ],
   "source": [
    "#print the value of the key 'user_id'\n",
    "post['user_id']"
   ]
  },
  {
   "cell_type": "code",
   "execution_count": 4,
   "metadata": {},
   "outputs": [
    {
     "data": {
      "text/plain": [
       "dict_keys(['user_id', 'message', 'language', 'location'])"
      ]
     },
     "execution_count": 4,
     "metadata": {},
     "output_type": "execute_result"
    }
   ],
   "source": [
    "# print the keys of the dict 'post'\n",
    "post.keys()"
   ]
  },
  {
   "cell_type": "code",
   "execution_count": 5,
   "metadata": {},
   "outputs": [
    {
     "data": {
      "text/plain": [
       "dict_values([209, 'D5 E5 C5', 'English', (44.590533, -104.715556)])"
      ]
     },
     "execution_count": 5,
     "metadata": {},
     "output_type": "execute_result"
    }
   ],
   "source": [
    "# print the values of the dict 'post'\n",
    "post.values()"
   ]
  },
  {
   "cell_type": "code",
   "execution_count": 6,
   "metadata": {},
   "outputs": [
    {
     "data": {
      "text/plain": [
       "dict_items"
      ]
     },
     "execution_count": 6,
     "metadata": {},
     "output_type": "execute_result"
    }
   ],
   "source": [
    "type(post.items())"
   ]
  },
  {
   "cell_type": "code",
   "execution_count": null,
   "metadata": {},
   "outputs": [],
   "source": [
    "#adding a dict to a list\n",
    "my_list =[]\n",
    "my_dict={'name':'Michiel'}\n",
    "my_list.append(my_dict)\n",
    "my_list"
   ]
  },
  {
   "cell_type": "code",
   "execution_count": 7,
   "metadata": {},
   "outputs": [
    {
     "name": "stdout",
     "output_type": "stream",
     "text": [
      "D5 E5 C5\n"
     ]
    }
   ],
   "source": [
    "# print the value of key 'message'\n",
    "print(post['message'])"
   ]
  },
  {
   "cell_type": "code",
   "execution_count": 8,
   "metadata": {},
   "outputs": [
    {
     "name": "stdout",
     "output_type": "stream",
     "text": [
      "user_id = 209\n",
      "message = D5 E5 C5\n",
      "language = English\n",
      "location = (44.590533, -104.715556)\n"
     ]
    }
   ],
   "source": [
    "for key, value in post.items():\n",
    "    print(key, '=', value)"
   ]
  },
  {
   "cell_type": "code",
   "execution_count": 24,
   "metadata": {},
   "outputs": [
    {
     "data": {
      "text/plain": [
       "{'message': 'SS Copotaxi', 'language': 'Dutch'}"
      ]
     },
     "execution_count": 24,
     "metadata": {},
     "output_type": "execute_result"
    }
   ],
   "source": [
    "#first create a dictionary, then add new keys to it with values\n",
    "post2 = dict(message='SS Copotaxi', language='Dutch')\n",
    "post2"
   ]
  },
  {
   "cell_type": "code",
   "execution_count": 28,
   "metadata": {},
   "outputs": [
    {
     "name": "stdout",
     "output_type": "stream",
     "text": [
      "{'message': 'SS Copotaxi', 'language': 'Dutch', 'date': 19771116}\n"
     ]
    }
   ],
   "source": [
    "\n",
    "post2['date']=19771116\n",
    "\n",
    "print(post2)\n",
    "#dir(post2)"
   ]
  },
  {
   "cell_type": "code",
   "execution_count": 29,
   "metadata": {},
   "outputs": [
    {
     "data": {
      "text/plain": [
       "{'message': 'SS Copotaxi', 'language': 'Dutch'}"
      ]
     },
     "execution_count": 29,
     "metadata": {},
     "output_type": "execute_result"
    }
   ],
   "source": [
    "#remove a key-value pair. Source: https://careerkarma.com/blog/python-remove-key-from-a-dictionary/\n",
    "post2.pop('date')\n",
    "post2"
   ]
  },
  {
   "cell_type": "code",
   "execution_count": 30,
   "metadata": {},
   "outputs": [
    {
     "ename": "KeyError",
     "evalue": "0",
     "output_type": "error",
     "traceback": [
      "\u001b[0;31m---------------------------------------------------------------------------\u001b[0m",
      "\u001b[0;31mKeyError\u001b[0m                                  Traceback (most recent call last)",
      "Input \u001b[0;32mIn [30]\u001b[0m, in \u001b[0;36m<cell line: 2>\u001b[0;34m()\u001b[0m\n\u001b[1;32m      1\u001b[0m \u001b[38;5;66;03m#Dictionaries are not-indexed so this will result in a KeyError\u001b[39;00m\n\u001b[0;32m----> 2\u001b[0m \u001b[43mpost2\u001b[49m\u001b[43m[\u001b[49m\u001b[38;5;241;43m0\u001b[39;49m\u001b[43m]\u001b[49m\n",
      "\u001b[0;31mKeyError\u001b[0m: 0"
     ]
    }
   ],
   "source": [
    "#Dictionaries are not-indexed so this will result in a KeyError\n",
    "post2[0]"
   ]
  },
  {
   "cell_type": "code",
   "execution_count": 12,
   "metadata": {},
   "outputs": [
    {
     "data": {
      "text/plain": [
       "{'apple': 0.36, 'orange': 0.32, 'banana': 0.23}"
      ]
     },
     "execution_count": 12,
     "metadata": {},
     "output_type": "execute_result"
    }
   ],
   "source": [
    "# changing the values of the dictionary\n",
    "#source: realpython -https://realpython.com/iterate-through-dictionary-python/\n",
    "\n",
    "prices = {'apple': 0.40, 'orange': 0.35, 'banana': 0.25}\n",
    "for key, value in prices.items():\n",
    "    prices[key] = round(value * 0.9, 2)  # Apply a 10% discount\n",
    "prices    "
   ]
  },
  {
   "cell_type": "code",
   "execution_count": 14,
   "metadata": {},
   "outputs": [
    {
     "data": {
      "text/plain": [
       "{'apple': 0.4, 'orange': 0.32, 'banana': 0.23}"
      ]
     },
     "execution_count": 14,
     "metadata": {},
     "output_type": "execute_result"
    }
   ],
   "source": [
    "prices['apple']=0.4\n",
    "prices"
   ]
  },
  {
   "cell_type": "code",
   "execution_count": 15,
   "metadata": {},
   "outputs": [
    {
     "name": "stdout",
     "output_type": "stream",
     "text": [
      "\n",
      "Person ID: 1\n",
      "Name: John\n",
      "Age: 27\n",
      "Sex: Male\n",
      "\n",
      "Person ID: 2\n",
      "Name: Marie\n",
      "Age: 22\n",
      "Sex: Female\n"
     ]
    }
   ],
   "source": [
    "people = {1: {'Name': 'John', 'Age': '27', 'Sex': 'Male'},\n",
    "          2: {'Name': 'Marie', 'Age': '22', 'Sex': 'Female'}}\n",
    "\n",
    "for p_id, p_info in people.items():\n",
    "    print(\"\\nPerson ID:\", p_id)\n",
    "    \n",
    "    for key in p_info:\n",
    "        print(key + ':', p_info[key])"
   ]
  },
  {
   "cell_type": "code",
   "execution_count": 4,
   "metadata": {},
   "outputs": [
    {
     "data": {
      "text/plain": [
       "dict_items([(1, {'Name': 'John', 'Age': '27', 'Sex': 'Male'}), (2, {'Name': 'Marie', 'Age': '22', 'Sex': 'Female'})])"
      ]
     },
     "execution_count": 4,
     "metadata": {},
     "output_type": "execute_result"
    }
   ],
   "source": [
    "people.items()"
   ]
  },
  {
   "cell_type": "code",
   "execution_count": 1,
   "metadata": {},
   "outputs": [
    {
     "name": "stdout",
     "output_type": "stream",
     "text": [
      "January has 31 days\n",
      "February has 28 days\n",
      "March has 31 days\n"
     ]
    }
   ],
   "source": [
    "#iterating trough a dictionary\n",
    "days_per_month = {'January':31, 'February':28, 'March':31}\n",
    "for month, days in days_per_month.items(): #assinging key,value to month, days\n",
    "    print(f'{month} has {days} days')"
   ]
  }
 ],
 "metadata": {
  "interpreter": {
   "hash": "2aca11a9ab5620288d93a0c466d708bb3054e8717db234a0446d04f04cd1d1d6"
  },
  "kernelspec": {
   "display_name": "Python 3 (ipykernel)",
   "language": "python",
   "name": "python3"
  },
  "language_info": {
   "codemirror_mode": {
    "name": "ipython",
    "version": 3
   },
   "file_extension": ".py",
   "mimetype": "text/x-python",
   "name": "python",
   "nbconvert_exporter": "python",
   "pygments_lexer": "ipython3",
   "version": "3.10.9"
  }
 },
 "nbformat": 4,
 "nbformat_minor": 4
}
