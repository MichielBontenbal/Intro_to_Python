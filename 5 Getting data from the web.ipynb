{
 "cells": [
  {
   "cell_type": "markdown",
   "metadata": {},
   "source": [
    "# Getting data from the web\n",
    "\n",
    "Getting data from the Internet is easy. There are several techniques available. We'll be both using linux commands and python libraries to get this done. When you know how to do this, you'll be able to get live data which will make your programs more attractive!\n",
    "\n",
    "### Contents\n",
    "0. Install packages\n",
    "1. Requests\n",
    "2. wget\n",
    "3. cURL\n",
    "4. Urllib"
   ]
  },
  {
   "cell_type": "markdown",
   "metadata": {},
   "source": [
    "## 0. Install packages"
   ]
  },
  {
   "cell_type": "code",
   "execution_count": null,
   "metadata": {},
   "outputs": [],
   "source": [
    "%pip install requests\n",
    "%pip install wget"
   ]
  },
  {
   "cell_type": "markdown",
   "metadata": {},
   "source": [
    "## 1. Requests\n",
    "\n",
    "source: https://realpython.com/python-json/\n",
    "We will use a website called jasonplaceholder to call dummy data. \n",
    "\n",
    "We will use both the requests and json packages (see 1.3 working with files)"
   ]
  },
  {
   "cell_type": "code",
   "execution_count": null,
   "metadata": {},
   "outputs": [],
   "source": [
    "import requests\n",
    "url = \"https://jsonplaceholder.typicode.com/todos\" #it's best to define the url seperately\n",
    "response = requests.get(url)\n",
    "print(response)"
   ]
  },
  {
   "cell_type": "code",
   "execution_count": null,
   "metadata": {},
   "outputs": [],
   "source": [
    "print(dir(response))"
   ]
  },
  {
   "cell_type": "code",
   "execution_count": null,
   "metadata": {},
   "outputs": [],
   "source": [
    "#print the http status code (200 = OK)\n",
    "response.status_code"
   ]
  },
  {
   "cell_type": "code",
   "execution_count": null,
   "metadata": {},
   "outputs": [],
   "source": [
    "response.text"
   ]
  },
  {
   "cell_type": "code",
   "execution_count": null,
   "metadata": {},
   "outputs": [],
   "source": [
    "import json\n",
    "todos = json.loads(response.text)\n",
    "print(type(todos))\n",
    "todos"
   ]
  },
  {
   "cell_type": "markdown",
   "metadata": {},
   "source": [
    "### Weather with an api_key\n",
    "registreer je via weerlive"
   ]
  },
  {
   "cell_type": "code",
   "execution_count": null,
   "metadata": {
    "scrolled": true
   },
   "outputs": [],
   "source": [
    "import requests\n",
    "def weersverwachting(api_key=None, plaats=None):\n",
    "    assert api_key is not None, 'Geef je API key op'\n",
    "    plaats = plaats or 'Amsterdam'\n",
    "    \n",
    "    BASE_URL = 'https://weerlive.nl/api/json-data-10min.php?'\n",
    "    verwachting = requests.get(f\"{BASE_URL}key={api_key}&locatie={plaats}\").json().get('liveweer')\n",
    "    \n",
    "    return verwachting #[0]\n",
    "weersverwachting('demo')\n",
    "#def samenvatting(api_key=None, plaats=None):"
   ]
  },
  {
   "cell_type": "markdown",
   "metadata": {},
   "source": [
    "### Learning to work with headers using Reqbin\n",
    "source: https://reqbin.com/req/python/5k564bhv/get-request-bearer-token-authorization-header-example"
   ]
  },
  {
   "cell_type": "code",
   "execution_count": null,
   "metadata": {},
   "outputs": [],
   "source": [
    "import requests\n",
    "from requests.structures import CaseInsensitiveDict\n",
    "\n",
    "url = \"https://reqbin.com/echo/get/json\"\n",
    "\n",
    "headers = CaseInsensitiveDict()\n",
    "headers[\"Accept\"] = \"application/json\"\n",
    "headers[\"Authorization\"] = \"Bearer {token}\"\n",
    "\n",
    "\n",
    "resp = requests.get(url, headers=headers)\n",
    "\n",
    "print(resp.status_code)"
   ]
  },
  {
   "cell_type": "code",
   "execution_count": null,
   "metadata": {},
   "outputs": [],
   "source": [
    "print(dir(resp))"
   ]
  },
  {
   "cell_type": "code",
   "execution_count": null,
   "metadata": {
    "scrolled": true
   },
   "outputs": [],
   "source": [
    "print(resp.headers)\n",
    "print('-------------------------')\n",
    "print(resp.content)"
   ]
  },
  {
   "cell_type": "markdown",
   "metadata": {},
   "source": [
    "## 2. wget"
   ]
  },
  {
   "cell_type": "code",
   "execution_count": null,
   "metadata": {},
   "outputs": [],
   "source": [
    "import wget\n",
    "url = 'http://www.futurecrew.com/skaven/song_files/mp3/razorback.mp3'\n",
    "filename = wget.download(url)\n",
    "filename"
   ]
  },
  {
   "cell_type": "code",
   "execution_count": null,
   "metadata": {},
   "outputs": [],
   "source": [
    "import wget\n",
    "\n",
    "print('Beginning file download with wget module')\n",
    "\n",
    "url = 'http://www.futurecrew.com/skaven/song_files/mp3/razorback.mp3'\n",
    "wget.download(url)"
   ]
  },
  {
   "cell_type": "code",
   "execution_count": null,
   "metadata": {},
   "outputs": [],
   "source": [
    "import wget\n",
    "url = 'https://github.com/MichielBbal/ArduinoTensorFlowLiteTutorials/blob/master/examples/audio/ipynb/uk_ireland_accent_recognition.ipynb'\n",
    "filename = wget.download(url)\n",
    "filename"
   ]
  },
  {
   "cell_type": "code",
   "execution_count": 6,
   "metadata": {},
   "outputs": [],
   "source": [
    "import io\n",
    "\n",
    "from PIL import Image  # https://pillow.readthedocs.io/en/4.3.x/\n",
    "import requests  # http://docs.python-requests.org/en/master/\n",
    "\n",
    "url = 'https://github.com/oneoffcoder/books/blob/master/sphinx/datascience/source/pose-estimation/images/tennis-00.jpg'\n",
    "# example image url: https://m.media-amazon.com/images/S/aplus-media/vc/6a9569ab-cb8e-46d9-8aea-a7022e58c74a.jpg\n",
    "def download_image(url, image_file_path):\n",
    "    r = requests.get(url, timeout=4.0)\n",
    "    if r.status_code != requests.codes.ok:\n",
    "        assert False, 'Status code error: {}.'.format(r.status_code)\n",
    "\n",
    "    with Image.open(io.BytesIO(r.content)) as im:\n",
    "        im.save(image_file_path)\n",
    "\n",
    "    print('Image downloaded from url: {} and saved to: {}.'.format(url, image_file_path))"
   ]
  },
  {
   "cell_type": "code",
   "execution_count": null,
   "metadata": {},
   "outputs": [],
   "source": [
    "pwd"
   ]
  },
  {
   "cell_type": "code",
   "execution_count": null,
   "metadata": {},
   "outputs": [],
   "source": [
    "#extract a zipfile\n",
    "import zipfile\n",
    "with zipfile.ZipFile('gm_ve_v1.zip', 'r') as zip_ref:\n",
    "    zip_ref.extractall()"
   ]
  },
  {
   "cell_type": "markdown",
   "metadata": {},
   "source": [
    "## 3. cURL (=not python)\n",
    "curl is a way of retrieving data. Standard syntax is:\n",
    "!curl https://www.example.com\n",
    "\n",
    "The curl repository can be found here:https://github.com/curl/curl"
   ]
  },
  {
   "cell_type": "code",
   "execution_count": null,
   "metadata": {},
   "outputs": [],
   "source": [
    "!curl www.example.com"
   ]
  },
  {
   "cell_type": "markdown",
   "metadata": {},
   "source": [
    "## 4. Urllib\n",
    "\n",
    "urllib is the python built-in library for getting url's.\n",
    "\n",
    "The package contains the following modules:\n",
    "- urllib.request for opening and reading URLs\n",
    "- urllib.error containing the exceptions raised by urllib.request\n",
    "- urllib.parse for parsing URLs\n",
    "- urllib.robotparser for parsing robots.txt files\n",
    "\n",
    "source: https://docs.python.org/3/library/urllib.html\n"
   ]
  },
  {
   "cell_type": "code",
   "execution_count": null,
   "metadata": {},
   "outputs": [],
   "source": [
    "import urllib.request\n",
    "with urllib.request.urlopen('http://python.org/') as response:\n",
    "   html = response.read()\n",
    "html"
   ]
  },
  {
   "cell_type": "code",
   "execution_count": null,
   "metadata": {},
   "outputs": [],
   "source": [
    "# A NON WORKING WEBSITE...\n",
    "req = urllib.request.Request('http://www.pretend_server.org')\n",
    "try: \n",
    "    urllib.request.urlopen(req)\n",
    "except urllib.error.URLError as e:\n",
    "    print(e.reason) "
   ]
  },
  {
   "cell_type": "code",
   "execution_count": null,
   "metadata": {},
   "outputs": [],
   "source": [
    "import urllib.request\n",
    "url = \"https://jsonplaceholder.typicode.com/todos\"\n",
    "\n",
    "with urllib.request.urlopen(url) as response:\n",
    "   response = response.read()\n",
    "print(response)"
   ]
  },
  {
   "cell_type": "code",
   "execution_count": null,
   "metadata": {},
   "outputs": [],
   "source": [
    "from urllib import parse\n",
    "\n",
    "params = {\"v\": \"EuC-yVZHhMI\", \"t\": \"5m56s\"}\n",
    "querystring = parse.urlencode(params)\n",
    "print(querystring)"
   ]
  },
  {
   "cell_type": "code",
   "execution_count": null,
   "metadata": {},
   "outputs": [],
   "source": [
    "url = \"https://www.youtube.com/watch\"+\"?\" +querystring\n",
    "print(url)\n",
    "resp = urllib.request.urlopen(url)\n",
    "resp.code"
   ]
  },
  {
   "cell_type": "code",
   "execution_count": null,
   "metadata": {},
   "outputs": [],
   "source": []
  }
 ],
 "metadata": {
  "kernelspec": {
   "display_name": "base",
   "language": "python",
   "name": "python3"
  },
  "language_info": {
   "codemirror_mode": {
    "name": "ipython",
    "version": 3
   },
   "file_extension": ".py",
   "mimetype": "text/x-python",
   "name": "python",
   "nbconvert_exporter": "python",
   "pygments_lexer": "ipython3",
   "version": "3.12.7"
  }
 },
 "nbformat": 4,
 "nbformat_minor": 4
}
