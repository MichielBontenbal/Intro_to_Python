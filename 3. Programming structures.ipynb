{
 "cells": [
  {
   "cell_type": "markdown",
   "metadata": {},
   "source": [
    "# Programming structures\n",
    "\n",
    "In this notebook we'll be covering some basic programming structures. This will help you get started as a programmer.\n",
    "\n",
    "## Contents\n",
    "0. If elif else\n",
    "1. While loops\n",
    "2. For loops\n",
    "3. Sorting and sorted\n",
    "4. Random"
   ]
  },
  {
   "cell_type": "markdown",
   "metadata": {},
   "source": [
    "## 0. If elif else"
   ]
  },
  {
   "cell_type": "code",
   "execution_count": 3,
   "metadata": {},
   "outputs": [
    {
     "name": "stdout",
     "output_type": "stream",
     "text": [
      "Yes, 5 > 3\n"
     ]
    }
   ],
   "source": [
    "#a basic script to show if else \n",
    "a = 5\n",
    "if a > 3:\n",
    "    print(f'Yes, {a} > 3')\n",
    "else:\n",
    "    print(f'No, {a} < 3')"
   ]
  },
  {
   "cell_type": "markdown",
   "metadata": {},
   "source": [
    "## 1. While loops\n",
    "\n",
    "A while loop can execute a (set of) statement(s) as long as a condition is true. "
   ]
  },
  {
   "cell_type": "code",
   "execution_count": 1,
   "metadata": {},
   "outputs": [
    {
     "name": "stdout",
     "output_type": "stream",
     "text": [
      "0\n",
      "1\n",
      "2\n",
      "3\n",
      "4\n"
     ]
    }
   ],
   "source": [
    "# whiloe loop example\n",
    "i=0    #declare the initial value of i\n",
    "while i < 5: #set the condition and do the following\n",
    "    print(i) # print i\n",
    "    i +=1 # add 1 to i and restart the loop"
   ]
  },
  {
   "cell_type": "code",
   "execution_count": 1,
   "metadata": {},
   "outputs": [
    {
     "name": "stdout",
     "output_type": "stream",
     "text": [
      "0\n",
      "1\n",
      "2\n",
      "3\n",
      "4\n",
      "i is no longer < 4\n"
     ]
    }
   ],
   "source": [
    "# Combine a while loop with an else statement\n",
    "i=0\n",
    "while i <5:\n",
    "    print(i)\n",
    "    i +=1\n",
    "else:\n",
    "    print(\"i is no longer < 4\")"
   ]
  },
  {
   "cell_type": "markdown",
   "metadata": {},
   "source": [
    "## 2. For loops"
   ]
  },
  {
   "cell_type": "code",
   "execution_count": 149,
   "metadata": {},
   "outputs": [
    {
     "name": "stdout",
     "output_type": "stream",
     "text": [
      "0\n",
      "1\n",
      "2\n"
     ]
    }
   ],
   "source": [
    "# Simple for loop\n",
    "for i in range(0,3): # for loop that will run three times.\n",
    "    print(i)   #check the output the range starts with 0 "
   ]
  },
  {
   "cell_type": "code",
   "execution_count": 5,
   "metadata": {},
   "outputs": [
    {
     "name": "stdout",
     "output_type": "stream",
     "text": [
      "Sum of 1 until 10 : 55\n"
     ]
    }
   ],
   "source": [
    "#for loop that will create a sum\n",
    "n = 10\n",
    "total = 0\n",
    "for i in range(1,n+1):\n",
    "    total = total + i\n",
    "\n",
    "print(f\"Sum of 1 until {n} : {total}\")"
   ]
  },
  {
   "cell_type": "code",
   "execution_count": 3,
   "metadata": {},
   "outputs": [
    {
     "name": "stdout",
     "output_type": "stream",
     "text": [
      "red\n",
      "green\n",
      "blue\n",
      "purple\n"
     ]
    }
   ],
   "source": [
    "# use a for loop to print all items in a list\n",
    "colors = [\"red\", \"green\", \"blue\", \"purple\"] # a list of colors\n",
    "for color in colors:\n",
    "    print(color)"
   ]
  },
  {
   "cell_type": "code",
   "execution_count": 177,
   "metadata": {},
   "outputs": [
    {
     "name": "stdout",
     "output_type": "stream",
     "text": [
      "1\n",
      "3\n",
      "4\n"
     ]
    }
   ],
   "source": [
    "# A for loop with some tuples\n",
    "my_tuple = ((0, 1), (1, 2), (2, 2))\n",
    "for (x, y) in my_tuple:\n",
    "    print (x+y) # print the sum of x,y of each tuple"
   ]
  },
  {
   "cell_type": "code",
   "execution_count": 6,
   "metadata": {},
   "outputs": [
    {
     "name": "stdout",
     "output_type": "stream",
     "text": [
      "1 * 1 = 1\n",
      "1 * 2 = 2\n",
      "2 * 1 = 2\n",
      "2 * 2 = 4\n"
     ]
    }
   ],
   "source": [
    "# Nested for loop \n",
    "for x in range(1, 3):\n",
    "    for y in range(1, 3):\n",
    "        print('%d * %d = %d' % (x, y, x*y))"
   ]
  },
  {
   "cell_type": "code",
   "execution_count": 10,
   "metadata": {},
   "outputs": [
    {
     "name": "stdout",
     "output_type": "stream",
     "text": [
      "President 1: Washington\n",
      "President 2: Adams\n",
      "President 3: Jefferson\n",
      "President 4: Madison\n",
      "President 5: Monroe\n"
     ]
    }
   ],
   "source": [
    "# A for loop using enumeration to create numbers\n",
    "presidents = [\"Washington\", \"Adams\", \"Jefferson\", \"Madison\", \"Monroe\"]\n",
    "for num, name in enumerate(presidents, start=1):\n",
    "    print(f'President {num}: {name}')"
   ]
  },
  {
   "cell_type": "code",
   "execution_count": 68,
   "metadata": {},
   "outputs": [
    {
     "name": "stdout",
     "output_type": "stream",
     "text": [
      "20.0% red\n",
      "30.0% green\n",
      "10.0% blue\n",
      "40.0% purple\n"
     ]
    }
   ],
   "source": [
    "#Use the zip function to combine two lists\n",
    "colors = [\"red\", \"green\", \"blue\", \"purple\"]\n",
    "ratios = [0.2, 0.3, 0.1, 0.4]\n",
    "for color, ratio in zip(colors, ratios):\n",
    "    print(\"{}% {}\".format(ratio * 100, color))"
   ]
  },
  {
   "cell_type": "markdown",
   "metadata": {},
   "source": [
    "## 3. Sorting and sorted\n",
    "source: https://www.youtube.com/watch?v=QtwhlHP_tqc&list=PLi01XoE8jYohWFPpC17Z-wWhPOSuh8Er-&index=28\n",
    "Sorting can only be applied to lists, not to tuples (tuples are immutable)\n",
    "\n",
    "Sorting a list of list can be done using lambda function, see below"
   ]
  },
  {
   "cell_type": "code",
   "execution_count": 7,
   "metadata": {
    "scrolled": true
   },
   "outputs": [
    {
     "data": {
      "text/plain": [
       "['Barium', 'Beryllium', 'Calcium', 'Magnesium', 'Radium', 'Strontium']"
      ]
     },
     "execution_count": 7,
     "metadata": {},
     "output_type": "execute_result"
    }
   ],
   "source": [
    "#first example to create a sorted list\n",
    "earth_metals = [\"Beryllium\", 'Magnesium', \"Calcium\", \"Strontium\", \"Barium\", 'Radium']\n",
    "earth_metals.sort() # (key=None en reverse=False) \n",
    "earth_metals"
   ]
  },
  {
   "cell_type": "code",
   "execution_count": 110,
   "metadata": {},
   "outputs": [
    {
     "data": {
      "text/plain": [
       "[('Earth', 6378, 5.52, 1.0),\n",
       " ('Mercury', 2440, 5.43, 0.395),\n",
       " ('Venus', 6052, 5.24, 0.723),\n",
       " ('Mars', 3396, 3.93, 1.53),\n",
       " ('Neptune', 24764, 1.64, 30.07),\n",
       " ('Jupiter', 71492, 1.33, 5.218),\n",
       " ('Uranus', 25559, 1.27, 19.213),\n",
       " ('Saturn', 60269, 0.69, 9.551)]"
      ]
     },
     "execution_count": 110,
     "metadata": {},
     "output_type": "execute_result"
    }
   ],
   "source": [
    "# Sorting a list with a lambda function \n",
    "# source : Socratica sorting video\n",
    "planets = [\n",
    "    (\"Mercury\", 2440, 5.43, 0.395 ),\n",
    "    (\"Venus\", 6052, 5.24, 0.723),\n",
    "    (\"Earth\", 6378, 5.52, 1.000),\n",
    "    (\"Mars\", 3396, 3.93, 1.530),\n",
    "    (\"Jupiter\", 71492, 1.33, 5.218),\n",
    "    (\"Saturn\", 60269, 0.69, 9.551),\n",
    "    (\"Uranus\", 25559, 1.27, 19.213),\n",
    "    (\"Neptune\", 24764, 1.64, 30.070)\n",
    "]\n",
    "size = lambda planet: planet[1]\n",
    "density = lambda planet:planet[2]\n",
    "planets.sort(key=density, reverse=True)\n",
    "planets"
   ]
  },
  {
   "cell_type": "code",
   "execution_count": 8,
   "metadata": {},
   "outputs": [
    {
     "data": {
      "text/plain": [
       "[1, 3, 5, 7, 9]"
      ]
     },
     "execution_count": 8,
     "metadata": {},
     "output_type": "execute_result"
    }
   ],
   "source": [
    "#Sorted instead of sorting\n",
    "data = (9,5,1,7,3) # create a tuple\n",
    "sorted(data) #use sorted to sort the tuple!\n",
    "#sorted(\"Alphabetical\")"
   ]
  },
  {
   "cell_type": "code",
   "execution_count": 56,
   "metadata": {},
   "outputs": [
    {
     "data": {
      "text/plain": [
       "[(0, 1), (1, 2), (1, 5), (2, 4), (2, 5), (3, 1), (3, 6), (7, 2)]"
      ]
     },
     "execution_count": 56,
     "metadata": {},
     "output_type": "execute_result"
    }
   ],
   "source": [
    "#an example with tuples\n",
    "xy_tuples = [(0,1),(1,2),(3,6),(2,4),(1,5),(7,2),(3,1),(2,5)]\n",
    "sorted(xy_tuples)"
   ]
  },
  {
   "cell_type": "markdown",
   "metadata": {},
   "source": [
    "## 4. Random"
   ]
  },
  {
   "cell_type": "code",
   "execution_count": 2,
   "metadata": {},
   "outputs": [
    {
     "data": {
      "text/plain": [
       "3"
      ]
     },
     "execution_count": 2,
     "metadata": {},
     "output_type": "execute_result"
    }
   ],
   "source": [
    "#create a random choice from a simple list\n",
    "import random\n",
    "my_list = [1,2,3,4,5]\n",
    "random.choice(my_list)"
   ]
  },
  {
   "cell_type": "code",
   "execution_count": 3,
   "metadata": {},
   "outputs": [
    {
     "name": "stdout",
     "output_type": "stream",
     "text": [
      "stone\n"
     ]
    }
   ],
   "source": [
    "# stone, paper, scissors\n",
    "import random\n",
    "outcome = ['stone', 'paper', 'scissors']\n",
    "for i in range(1):\n",
    "    print(random.choice(outcome))"
   ]
  },
  {
   "cell_type": "code",
   "execution_count": 8,
   "metadata": {},
   "outputs": [
    {
     "name": "stdout",
     "output_type": "stream",
     "text": [
      "([9, 10, -1, -4, -5, 5, -10, -1, -8, 8], [-8, -1, 7, 9, 1, -3, -8, -1, 8, -1])\n"
     ]
    }
   ],
   "source": [
    "# 2 random lists using random.randint => generating integers\n",
    "import random\n",
    "def test_case():\n",
    "    x = [random.randint(-10, 10) for i in range(10)]\n",
    "    y = [random.randint(-10, 10) for i in range(10)]\n",
    "    return x, y\n",
    "print(test_case())"
   ]
  },
  {
   "cell_type": "code",
   "execution_count": null,
   "metadata": {},
   "outputs": [],
   "source": []
  }
 ],
 "metadata": {
  "interpreter": {
   "hash": "2aca11a9ab5620288d93a0c466d708bb3054e8717db234a0446d04f04cd1d1d6"
  },
  "kernelspec": {
   "display_name": "Python 3 (ipykernel)",
   "language": "python",
   "name": "python3"
  },
  "language_info": {
   "codemirror_mode": {
    "name": "ipython",
    "version": 3
   },
   "file_extension": ".py",
   "mimetype": "text/x-python",
   "name": "python",
   "nbconvert_exporter": "python",
   "pygments_lexer": "ipython3",
   "version": "3.10.9"
  }
 },
 "nbformat": 4,
 "nbformat_minor": 4
}
