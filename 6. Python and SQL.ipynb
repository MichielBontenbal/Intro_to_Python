{
 "cells": [
  {
   "cell_type": "markdown",
   "metadata": {},
   "source": [
    "# Python and SQL databases\n",
    "\n",
    "### Contents:\n",
    "0. Install packages\n",
    "1. Sqlite3 \n",
    "2. Duckdb\n"
   ]
  },
  {
   "cell_type": "markdown",
   "metadata": {},
   "source": [
    "## 0. Install packages"
   ]
  },
  {
   "cell_type": "code",
   "execution_count": 1,
   "metadata": {},
   "outputs": [
    {
     "name": "stdout",
     "output_type": "stream",
     "text": [
      "pip 24.3.1 from /opt/anaconda3/lib/python3.12/site-packages/pip (python 3.12)\n",
      "Note: you may need to restart the kernel to use updated packages.\n"
     ]
    }
   ],
   "source": [
    "%pip --version"
   ]
  },
  {
   "cell_type": "code",
   "execution_count": 2,
   "metadata": {},
   "outputs": [
    {
     "name": "stdout",
     "output_type": "stream",
     "text": [
      "Collecting duckdb\n",
      "  Downloading duckdb-1.1.3-cp312-cp312-macosx_12_0_x86_64.whl.metadata (762 bytes)\n",
      "Downloading duckdb-1.1.3-cp312-cp312-macosx_12_0_x86_64.whl (17.0 MB)\n",
      "\u001b[2K   \u001b[90m━━━━━━━━━━━━━━━━━━━━━━━━━━━━━━━━━━━━━━━━\u001b[0m \u001b[32m17.0/17.0 MB\u001b[0m \u001b[31m25.0 MB/s\u001b[0m eta \u001b[36m0:00:00\u001b[0m00:01\u001b[0m00:01\u001b[0m\n",
      "\u001b[?25hInstalling collected packages: duckdb\n",
      "Successfully installed duckdb-1.1.3\n",
      "Note: you may need to restart the kernel to use updated packages.\n"
     ]
    }
   ],
   "source": [
    "%pip install duckdb"
   ]
  },
  {
   "cell_type": "markdown",
   "metadata": {},
   "source": [
    "## 1. Sqlite3\n",
    "\n",
    "Sqlite3 is a built in module in Python3, so you only have to import this module and it works out of the box. \n",
    "\n",
    "To use it, you'll need to make two objects:\n",
    "1. a connection\n",
    "2. a cursor, which is used to interact with the database.\n",
    "\n",
    "We use the SQL language to interact with the database. See https://en.wikipedia.org/wiki/SQL for more info.\n",
    "Or find an overview of SQL statements here: https://s3.amazonaws.com/assets.datacamp.com/email/other/SQL+for+Data+Science.pdf\n",
    "\n",
    "Sqlite3 library automatically creates a database for us, if it does not exist already.\n",
    "You can download a database viewer from https://sqlitebrowser.org/ to check your database."
   ]
  },
  {
   "cell_type": "code",
   "execution_count": 3,
   "metadata": {},
   "outputs": [],
   "source": [
    "import sqlite3\n",
    "conn = sqlite3.connect('michiel.db') #database is created\n",
    "cur = conn.cursor()\n",
    "cur.execute('CREATE TABLE if not exists store(item TEXT, quantity INTEGER, price REAL)')\n",
    "cur.execute(\"INSERT INTO store VALUES('fiets', 10, 1234.56)\")\n",
    "conn.commit()\n",
    "conn.close()"
   ]
  },
  {
   "cell_type": "code",
   "execution_count": 4,
   "metadata": {},
   "outputs": [
    {
     "data": {
      "text/plain": [
       "[('fiets', 10, 1234.56)]"
      ]
     },
     "execution_count": 4,
     "metadata": {},
     "output_type": "execute_result"
    }
   ],
   "source": [
    "conn = sqlite3.connect('michiel.db')\n",
    "cur = conn.cursor()\n",
    "cur.execute('SELECT * FROM store')\n",
    "rows = cur.fetchall()\n",
    "rows"
   ]
  },
  {
   "cell_type": "code",
   "execution_count": 5,
   "metadata": {},
   "outputs": [],
   "source": [
    "import sqlite3\n",
    "conn = sqlite3.connect('michiel.db')\n",
    "cur = conn.cursor()\n",
    "\n",
    "def insert(item, quantity, price):\n",
    "    cur.execute(\"INSERT INTO store VALUES(?,?,?)\", (item, quantity, price))\n",
    "    conn.commit()\n",
    "\n",
    "insert('auto', 12, 10.5)\n",
    "#conn.close()"
   ]
  },
  {
   "cell_type": "code",
   "execution_count": 6,
   "metadata": {},
   "outputs": [
    {
     "name": "stdout",
     "output_type": "stream",
     "text": [
      "('fiets', 10, 1234.56)\n"
     ]
    }
   ],
   "source": [
    "#You can search the database by using LIKE\n",
    "search = cur.execute(\"SELECT * FROM store WHERE item LIKE 'fiets'\")\n",
    "for x in search:\n",
    "    print(x)"
   ]
  },
  {
   "cell_type": "code",
   "execution_count": 7,
   "metadata": {},
   "outputs": [
    {
     "name": "stdout",
     "output_type": "stream",
     "text": [
      "SELECT * FROM store WHERE item LIKE 'item'\n"
     ]
    }
   ],
   "source": [
    "sql = \"SELECT * FROM store WHERE item LIKE '\"+ str('item')+\"'\"\n",
    "print(sql)"
   ]
  },
  {
   "cell_type": "markdown",
   "metadata": {},
   "source": [
    "\n",
    "## 2. Duckdb\n",
    "source: https://duckdb.org/docs/api/python/overview.html"
   ]
  },
  {
   "cell_type": "code",
   "execution_count": 9,
   "metadata": {},
   "outputs": [],
   "source": [
    "#setting up a database\n",
    "import duckdb\n",
    "con = duckdb.connect(database='my-db.duckdb', read_only=False)"
   ]
  },
  {
   "cell_type": "code",
   "execution_count": 10,
   "metadata": {},
   "outputs": [
    {
     "name": "stdout",
     "output_type": "stream",
     "text": [
      "[('jeans', Decimal('20.00'), 1), ('hammer', Decimal('42.20'), 2)]\n"
     ]
    }
   ],
   "source": [
    "#PLEASE NOTE THAT YOU DON\"T HAVE TO CREATE A CURSOR OBJECT!\n",
    "# create a table\n",
    "con.execute(\"CREATE TABLE items(item VARCHAR, value DECIMAL(10,2), count INTEGER)\")\n",
    "# insert two items into the table\n",
    "con.execute(\"INSERT INTO items VALUES ('jeans', 20.0, 1), ('hammer', 42.2, 2)\")\n",
    "\n",
    "# retrieve the items again\n",
    "con.execute(\"SELECT * FROM items\")\n",
    "print(con.fetchall())"
   ]
  },
  {
   "cell_type": "code",
   "execution_count": null,
   "metadata": {},
   "outputs": [],
   "source": []
  }
 ],
 "metadata": {
  "kernelspec": {
   "display_name": "base",
   "language": "python",
   "name": "python3"
  },
  "language_info": {
   "codemirror_mode": {
    "name": "ipython",
    "version": 3
   },
   "file_extension": ".py",
   "mimetype": "text/x-python",
   "name": "python",
   "nbconvert_exporter": "python",
   "pygments_lexer": "ipython3",
   "version": "3.12.7"
  }
 },
 "nbformat": 4,
 "nbformat_minor": 4
}
