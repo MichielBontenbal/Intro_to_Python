{
 "cells": [
  {
   "cell_type": "markdown",
   "id": "8234ec0e",
   "metadata": {},
   "source": [
    "# Introduction\n",
    "\n",
    "In this notebook some examples to convert datatypes.\n",
    "\n",
    "\n",
    "### Contents\n",
    "0. Install packages\n",
    "1. Casting\n",
    "2. Convert string to list\n",
    "3. Convert string to date\n",
    "4. Convert list to dictionary\n"
   ]
  },
  {
   "cell_type": "markdown",
   "id": "88d4e514",
   "metadata": {},
   "source": [
    "## 0. Install packages"
   ]
  },
  {
   "cell_type": "markdown",
   "id": "683224e0",
   "metadata": {},
   "source": [
    "## 1. Casting\n",
    "There may be times when you want to specify a type on to a variable. This can be done with casting. Python is an object-orientated language, and as such it uses classes to define data types, including its primitive types."
   ]
  },
  {
   "cell_type": "code",
   "execution_count": null,
   "id": "d4914dab",
   "metadata": {},
   "outputs": [],
   "source": [
    "#float to int, str to int\n",
    "int(2.3), int('3')"
   ]
  },
  {
   "cell_type": "code",
   "execution_count": null,
   "id": "68dac415",
   "metadata": {},
   "outputs": [],
   "source": [
    "#integer/string to float\n",
    "float(2), float(\"2.3\")"
   ]
  },
  {
   "cell_type": "code",
   "execution_count": null,
   "id": "44cebb1b",
   "metadata": {},
   "outputs": [],
   "source": [
    "#integer/float to string\n",
    "str(2), str(2.3)"
   ]
  },
  {
   "cell_type": "markdown",
   "id": "b301ed44",
   "metadata": {},
   "source": [
    "## 2. Convert string to list"
   ]
  },
  {
   "cell_type": "code",
   "execution_count": null,
   "id": "1222fbd8",
   "metadata": {},
   "outputs": [],
   "source": [
    "my_string=\"Hallo\"\n",
    "list(my_string)"
   ]
  },
  {
   "cell_type": "code",
   "execution_count": null,
   "id": "b49543c4",
   "metadata": {},
   "outputs": [],
   "source": [
    "def Convert(string):\n",
    "    list1=[]\n",
    "    list1[:0]=string\n",
    "    return list1\n",
    "# Driver code\n",
    "str1=\"ABCD\"\n",
    "print(Convert(str1))"
   ]
  },
  {
   "cell_type": "code",
   "execution_count": null,
   "id": "95015e24",
   "metadata": {},
   "outputs": [],
   "source": [
    "#create a string out of a list check syntax\n",
    "my_list = [1,2,3]\n",
    "str(my_list)"
   ]
  },
  {
   "cell_type": "markdown",
   "id": "4dbd2b70",
   "metadata": {},
   "source": [
    "## 3. String to datetime\n",
    "Python provides the datetime.strptime() method to convert a string representation of the date/time into a date object."
   ]
  },
  {
   "cell_type": "code",
   "execution_count": null,
   "id": "c3668dd8",
   "metadata": {},
   "outputs": [],
   "source": [
    "# https://www.programiz.com/python-programming/datetime/strptime\n",
    "from datetime import datetime\n",
    "\n",
    "date_string = \"21 July, 2018\"\n",
    "\n",
    "#print(\"date_string =\", date_string)\n",
    "#print(\"type of date_string =\", type(date_string))\n",
    "\n",
    "date_object = datetime.strptime(date_string, \"%d %B, %Y\")\n",
    "\n",
    "print(\"date_object =\", date_object)\n",
    "print(\"type of date_object =\", type(date_object))"
   ]
  },
  {
   "cell_type": "code",
   "execution_count": null,
   "id": "e263c329",
   "metadata": {},
   "outputs": [],
   "source": [
    "from datetime import datetime\n",
    "\n",
    "dt_string = \"12/11/2018 09:15:32\"\n",
    "\n",
    "# Considering date is in dd/mm/yyyy format\n",
    "dt_object1 = datetime.strptime(dt_string, \"%d/%m/%Y %H:%M:%S\")\n",
    "print(\"dt_object1 =\", dt_object1)"
   ]
  },
  {
   "cell_type": "code",
   "execution_count": 9,
   "id": "9ddcd59f",
   "metadata": {},
   "outputs": [],
   "source": [
    "start_time = '2021-11-16T22:58:10+01:00'\n",
    "time2 = '2021-11-16 22:58:10'"
   ]
  },
  {
   "cell_type": "code",
   "execution_count": null,
   "id": "e068bc34",
   "metadata": {},
   "outputs": [],
   "source": [
    "from datetime import datetime\n",
    "dt_object1 = datetime.strptime(time2, \"%Y-%m-%d  %H:%M:%S\")\n",
    "print(dt_object1)\n",
    "print(type(dt_object1))"
   ]
  },
  {
   "cell_type": "markdown",
   "id": "73200cd8",
   "metadata": {},
   "source": [
    "### 3b. using Date util"
   ]
  },
  {
   "cell_type": "code",
   "execution_count": null,
   "id": "7dcfadf5",
   "metadata": {},
   "outputs": [],
   "source": [
    "!pip install python-dateutil"
   ]
  },
  {
   "cell_type": "code",
   "execution_count": null,
   "id": "a8052d08",
   "metadata": {},
   "outputs": [],
   "source": [
    "from dateutil import parser\n",
    "date =parser.parse(\"Tue Jun 22 07:46:22 EST 2010\")\n",
    "print(date)"
   ]
  },
  {
   "cell_type": "code",
   "execution_count": null,
   "id": "60391d02",
   "metadata": {},
   "outputs": [],
   "source": [
    "my_date = parser.parse(\"2021-11-16T22:58:10+01:00\")\n",
    "print(my_date)\n",
    "type(my_date)"
   ]
  },
  {
   "cell_type": "markdown",
   "id": "6f5174ac",
   "metadata": {},
   "source": [
    "## 4. List to dictionary"
   ]
  },
  {
   "cell_type": "code",
   "execution_count": null,
   "id": "3f4aff7d",
   "metadata": {},
   "outputs": [],
   "source": [
    "# enumerate the items in a list to a dictionary\n",
    "#source: https://betterprogramming.pub/10-ways-to-convert-lists-to-dictionaries-in-python-d2c728d2aeb8 6.enumerate and\n",
    "#https://docs.python.org/3/library/functions.html#enumerate\n",
    "my_list=['a','b','c','d']\n",
    "my_dict=dict(enumerate(my_list))\n",
    "my_dict"
   ]
  },
  {
   "cell_type": "code",
   "execution_count": null,
   "id": "0685ade3",
   "metadata": {},
   "outputs": [],
   "source": [
    "seasons = ['Spring', 'Summer', 'Fall', 'Winter']\n",
    "dict(enumerate(seasons))"
   ]
  },
  {
   "cell_type": "code",
   "execution_count": null,
   "id": "098826bc",
   "metadata": {},
   "outputs": [],
   "source": [
    "# list to dictionary 1\n",
    " \n",
    "def Convert(lst):\n",
    "    res_dct = {lst[i]: lst[i + 1] for i in range(0, len(lst), 2)}\n",
    "    return res_dct\n",
    "         \n",
    "# Driver code\n",
    "lst = ['a', 5, 'b', 6, 'c', 7]\n",
    "print(Convert(lst))"
   ]
  },
  {
   "cell_type": "code",
   "execution_count": null,
   "id": "e1750b97",
   "metadata": {},
   "outputs": [],
   "source": [
    "#list to dictionary 2\n",
    "def Convert(a):\n",
    "    it = iter(a)\n",
    "    res_dct = dict(zip(it, it))\n",
    "    return res_dct\n",
    "         \n",
    "# Driver code\n",
    "lst = ['a', 8]\n",
    "mijn_dict = Convert(lst)\n",
    "print(mijn_dict)"
   ]
  },
  {
   "cell_type": "code",
   "execution_count": null,
   "id": "313a2372",
   "metadata": {},
   "outputs": [],
   "source": []
  }
 ],
 "metadata": {
  "kernelspec": {
   "display_name": "base",
   "language": "python",
   "name": "python3"
  },
  "language_info": {
   "codemirror_mode": {
    "name": "ipython",
    "version": 3
   },
   "file_extension": ".py",
   "mimetype": "text/x-python",
   "name": "python",
   "nbconvert_exporter": "python",
   "pygments_lexer": "ipython3",
   "version": "3.12.7"
  }
 },
 "nbformat": 4,
 "nbformat_minor": 5
}
