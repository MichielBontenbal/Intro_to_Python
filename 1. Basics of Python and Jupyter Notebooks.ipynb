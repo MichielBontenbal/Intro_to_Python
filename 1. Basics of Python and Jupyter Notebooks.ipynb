{
 "cells": [
  {
   "cell_type": "markdown",
   "metadata": {},
   "source": [
    "# Notebook on the basics of Python and Jupyter Notebooks"
   ]
  },
  {
   "cell_type": "markdown",
   "metadata": {},
   "source": [
    "## Contents\n",
    "1. Hello world!\n",
    "2. Short intro to Jupyter Notebooks\n",
    "3. Python build in functions\n",
    "4. Basic math\n",
    "5. Python data types\n",
    "6. Strings\n",
    "7. Variables\n",
    "8. Python Keywords"
   ]
  },
  {
   "cell_type": "markdown",
   "metadata": {},
   "source": [
    "## 1. Hello world!\n",
    "\n",
    "Tradition holds that we start with Hello World.\n",
    "click on the 'play'button to the left to print \"Hello world!\""
   ]
  },
  {
   "cell_type": "code",
   "execution_count": null,
   "metadata": {},
   "outputs": [],
   "source": [
    "print(\"Hello world!\")"
   ]
  },
  {
   "cell_type": "markdown",
   "metadata": {},
   "source": [
    "## 2. Short introduction Jupyter Notebooks\n",
    "\n",
    "- Jupyter works in your browser\n",
    "- Jupyter can handle programming languages Julia, Python and R \n",
    "\n",
    "Use the buttons on the taskbar and the menu's for your actions.\n",
    "\n",
    "Change the type of the cell from 'code' to 'Markdown' to write text instead of code.\n",
    "\n",
    "\n",
    "### Some useful commands:\n",
    "- enter on a Markdown cell => set the cell to editing\n",
    "- shift + enter = run a cell\n",
    "- alt + enter   = run a cell + create new cell\n",
    "- in a code cell, while typing try tab to complete the function \n",
    "\n",
    "### Command mode\n",
    "- press 'escape' to go to command mode. When in command mode to the following:\n",
    "- press 'm' to change cell to markdown; press 'y'to change cell to code.\n",
    "\n",
    "\n",
    "### Pro-tips\n",
    "- use %%time at the beginning of a cell to measure the time of execution (optional)\n",
    "- if you want to run command line actions use an '!'exclamation mark, for example: \"!pip install tensorflow\"\n",
    "- use %%bash to turn the whole cell to be interpreted as a bash script.\n",
    "\n",
    "### LaTex\n",
    "\n",
    "Left outline:\n",
    "$ c = \\sqrt{a^2 + b^2} $\n",
    "\n",
    "centered: $$ c = \\sqrt{a^2 + b^2}$$\n",
    "\n",
    "### Code completion\n",
    "I've installed Tabnine for code completion: https://www.tabnine.com/welcome \n",
    "\n",
    "### Links\n",
    "- https://www.youtube.com/watch?v=2eCHD6f_phE - Video on Youtube (6 min)\n",
    "- https://www.dataquest.io/blog/jupyter-notebook-tips-tricks-shortcuts/"
   ]
  },
  {
   "cell_type": "markdown",
   "metadata": {},
   "source": [
    "### Intro to using Linux commands in Jupyter\n",
    "In any notebook cell you can use linux commands.\n",
    "Examples could be:\n",
    "- ls => to show the files in current directory\n",
    "- pwd => to show present working directory\n",
    "- cd => to change directory.\n",
    "\n",
    "See also notebook 2.07 Python and linux"
   ]
  },
  {
   "cell_type": "code",
   "execution_count": null,
   "metadata": {},
   "outputs": [],
   "source": [
    "#in a cell you can indicate it's linux by using the ! or % symbol\n",
    "ls"
   ]
  },
  {
   "cell_type": "markdown",
   "metadata": {},
   "source": [
    "## 3. Python build in functions\n",
    "\n",
    "The boring stuff when you start - but so so helpful when things get more complex."
   ]
  },
  {
   "cell_type": "code",
   "execution_count": 9,
   "metadata": {},
   "outputs": [],
   "source": [
    "dir(list)"
   ]
  },
  {
   "cell_type": "code",
   "execution_count": null,
   "metadata": {},
   "outputs": [],
   "source": [
    "help(list.sort)"
   ]
  },
  {
   "cell_type": "markdown",
   "metadata": {},
   "source": [
    "## 4. Basic math\n",
    "\n",
    "How to use basic math in Python:\n",
    "\n",
    "Standard symbols:\n",
    "\n",
    "    a+b addition\n",
    "    a-b subtraction\n",
    "    a*b multiplication\n",
    "    a/b division\n",
    "    a%b modulo\n",
    "    a//b floor division(example 5//2=2)\n",
    "    -a   negation\n",
    "    abs(a) absolute value\n",
    "    a**b  exponent\n",
    "    math.sqrt(a) square root => import math\n",
    "\n",
    "^ = power operator"
   ]
  },
  {
   "cell_type": "code",
   "execution_count": null,
   "metadata": {},
   "outputs": [],
   "source": [
    "#rounding\n",
    "print(round(5.34567, 2)) # rounds the number to 2 decimals"
   ]
  },
  {
   "cell_type": "code",
   "execution_count": null,
   "metadata": {},
   "outputs": [],
   "source": [
    "# Average\n",
    "l = [15, 18, 2, 36, 12, 78, 5, 6, 9]\n",
    "average=(sum(l) / len(l))\n",
    "print(average)\n",
    "print(round(average,2))\n",
    "print(\"%.2f\" % average)"
   ]
  },
  {
   "cell_type": "markdown",
   "metadata": {},
   "source": [
    "##  5. Data types\n",
    "\n",
    "Python has the following built-in data types: <br>\n",
    "\n",
    "Text Type:\t         string <br>\n",
    "Numeric Types:\t     integer, float, complex <br>\n",
    "Sequence Types:\t     list, tuple, range <br>\n",
    "Mapping Type:\t     dictionary <br>\n",
    "Set Types:\t         set, frozenset <br>\n",
    "Boolean Type:\t     boolean <br>\n",
    "Binary Types:\t     bytes, bytearray, memoryview <br>"
   ]
  },
  {
   "cell_type": "code",
   "execution_count": null,
   "metadata": {},
   "outputs": [],
   "source": [
    "# Examples of data types\n",
    "\n",
    "a = ('Hello world') # this is a string\n",
    "b = 20 # this is an integer\n",
    "c = 1.5 # this is a float\n",
    "d = 1j # this is a complex number\n",
    "e = ['apple', 'banana', 'cherry'] # this is a list\n",
    "f = ('apple', 'banana', 'cherry') # this is a tuple\n",
    "g = range(5) # this is a range\n",
    "h = {'name': 'john', 'age': '36'} # this is a dictionary\n",
    "i = {'apple', 'banana', 'cherry'} # this is a set\n",
    "j = frozenset({'apple', 'banana', 'cherry'}) # this is a frozenset\n",
    "k = True # this is a boolean\n",
    "l = b\"Hello\" #this is bytes\n",
    "m = bytearray(5) # this is a bytearray\n",
    "n = memoryview(bytes(5))\n",
    "\n",
    "print(a,b,c,d,e,f,g,h,i,j,k,l,m,n)"
   ]
  },
  {
   "cell_type": "code",
   "execution_count": null,
   "metadata": {},
   "outputs": [],
   "source": [
    "# To find the datatype:\n",
    "type(a)"
   ]
  },
  {
   "cell_type": "code",
   "execution_count": null,
   "metadata": {},
   "outputs": [],
   "source": [
    "# to check we use isinstance\n",
    "q = 123 # define a variable with integer as input\n",
    "isinstance(q, int)"
   ]
  },
  {
   "cell_type": "markdown",
   "metadata": {},
   "source": [
    "## 6. Strings"
   ]
  },
  {
   "cell_type": "code",
   "execution_count": null,
   "metadata": {},
   "outputs": [],
   "source": [
    "my_string = 'hello'    # String literals can use single quotes\n",
    "my_string2 = \"world\"    # or double quotes; it does not matter.\n",
    "print(my_string)       # Prints \"hello\"\n",
    "print(len(my_string))  # String length; prints \"5\"\n",
    "hw = my_string + ' ' + my_string2  # String concatenation with a whitespace in between\n",
    "print(hw)  # prints \"hello world\""
   ]
  },
  {
   "cell_type": "code",
   "execution_count": null,
   "metadata": {},
   "outputs": [],
   "source": [
    "print('-'*50)"
   ]
  },
  {
   "cell_type": "code",
   "execution_count": null,
   "metadata": {},
   "outputs": [],
   "source": [
    "my_str = 'AbCd'\n",
    "print(my_str.capitalize())"
   ]
  },
  {
   "cell_type": "code",
   "execution_count": null,
   "metadata": {},
   "outputs": [],
   "source": [
    "print('epsilon'.endswith('on'))"
   ]
  },
  {
   "cell_type": "code",
   "execution_count": null,
   "metadata": {},
   "outputs": [],
   "source": [
    "print('Moooo'.isalpha())"
   ]
  },
  {
   "cell_type": "code",
   "execution_count": null,
   "metadata": {},
   "outputs": [],
   "source": [
    "print('2022'.isdigit())\n",
    "print('2022Year'.isdigit())"
   ]
  },
  {
   "cell_type": "markdown",
   "metadata": {},
   "source": [
    "### 6a. String formatting the old way\n",
    "\n",
    "You can use string formatting if you want to add data to a certain string.\n",
    "\n",
    "There are two ways of string formatting: \n",
    "- using the {} brackets and\n",
    "- using the %\n",
    "\n"
   ]
  },
  {
   "cell_type": "code",
   "execution_count": null,
   "metadata": {},
   "outputs": [],
   "source": [
    "# String formatting using {}\n",
    "price = 49\n",
    "txt = \"The price is {} dollars\" #insert the value 49 between the brackets\n",
    "print(txt.format(price))\n",
    "\n",
    "price = 49\n",
    "txt = \"The price is {:.2f} Euro\" # insert the value 49 on the semicolon and add 2 zero's after the dot\n",
    "print(txt.format(price))\n",
    "\n",
    "quantity =3 \n",
    "price = 49\n",
    "text = \"I want {} pieces for {:.2f} Euro each.\" # optional: you can use index numbers between the curly brackets {0}\n",
    "print(text.format(quantity, price))"
   ]
  },
  {
   "cell_type": "markdown",
   "metadata": {},
   "source": [
    "### 6b. F-string the new way "
   ]
  },
  {
   "cell_type": "code",
   "execution_count": null,
   "metadata": {},
   "outputs": [],
   "source": [
    "# use f' to insert an integer into a string\n",
    "average = 50\n",
    "print(f'The average is {average}')"
   ]
  },
  {
   "cell_type": "code",
   "execution_count": null,
   "metadata": {},
   "outputs": [],
   "source": [
    "age = 46\n",
    "print(f'My age is {age}')"
   ]
  },
  {
   "cell_type": "code",
   "execution_count": null,
   "metadata": {},
   "outputs": [],
   "source": [
    "#also you can put a calculation (or other function) between the brackets\n",
    "number1=7\n",
    "number2=5\n",
    "print(f'{number1} times {number2} is {number1 * number2}')"
   ]
  },
  {
   "cell_type": "markdown",
   "metadata": {},
   "source": [
    "### 6c. Split string"
   ]
  },
  {
   "cell_type": "code",
   "execution_count": null,
   "metadata": {},
   "outputs": [],
   "source": [
    "words = \"This is random text we’re going to split apart\"\n",
    "\n",
    "words2 = words.split(\" \")\n",
    "words2"
   ]
  },
  {
   "cell_type": "code",
   "execution_count": null,
   "metadata": {},
   "outputs": [],
   "source": [
    "#indexing strings\n",
    "\n",
    "example_string = 'silly walks'\n",
    "\n",
    "for ix in range(len(example_string)):\n",
    "    print(example_string[ix], end=' ')"
   ]
  },
  {
   "cell_type": "markdown",
   "metadata": {},
   "source": [
    "## 7. Python Keywords"
   ]
  },
  {
   "cell_type": "markdown",
   "metadata": {},
   "source": [
    "Since Python 3.8 there are 35 reserved words or 'Keywords' in Python:\n",
    "\n",
    "False      await      else       import     pass\n",
    "None       break      except     in         raise\n",
    "True       class      finally    is         return\n",
    "and        continue   for        lambda     try\n",
    "as         def        from       nonlocal   while\n",
    "assert     del        global     not        with\n",
    "async      elif       if         or         yield\n",
    "\n",
    "Source: https://docs.python.org/3.8/reference/lexical_analysis.html#keywords\n",
    "More info can be found at: https://realpython.com/python-keywords/"
   ]
  },
  {
   "cell_type": "code",
   "execution_count": null,
   "metadata": {},
   "outputs": [],
   "source": [
    "#use this short script to see a word is a keyword or not\n",
    "import keyword\n",
    "print(keyword.iskeyword('except'))\n",
    "print(keyword.iskeyword('hello'))"
   ]
  }
 ],
 "metadata": {
  "kernelspec": {
   "display_name": "Python 3 (ipykernel)",
   "language": "python",
   "name": "python3"
  },
  "language_info": {
   "codemirror_mode": {
    "name": "ipython",
    "version": 3
   },
   "file_extension": ".py",
   "mimetype": "text/x-python",
   "name": "python",
   "nbconvert_exporter": "python",
   "pygments_lexer": "ipython3",
   "version": "3.9.12"
  }
 },
 "nbformat": 4,
 "nbformat_minor": 4
}
